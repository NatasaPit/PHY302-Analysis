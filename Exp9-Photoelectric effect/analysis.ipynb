{
 "cells": [
  {
   "cell_type": "code",
   "execution_count": 14,
   "metadata": {},
   "outputs": [],
   "source": [
    "import numpy as np\n",
    "import matplotlib.pyplot as plt\n",
    "from scipy.optimize import curve_fit\n",
    "\n",
    "plt.style.use('science')"
   ]
  },
  {
   "cell_type": "code",
   "execution_count": 24,
   "metadata": {},
   "outputs": [],
   "source": [
    "data=np.loadtxt('1_meros.txt')\n",
    "x=data[:,0]\n",
    "y=data[:,1]\n",
    "y_error=y*0+0.05\n",
    "x_error=x*0"
   ]
  },
  {
   "cell_type": "code",
   "execution_count": 25,
   "metadata": {},
   "outputs": [],
   "source": [
    "def meros1(x, a, b,):\n",
    "    return a*x+b"
   ]
  },
  {
   "cell_type": "code",
   "execution_count": 26,
   "metadata": {},
   "outputs": [
    {
     "name": "stdout",
     "output_type": "stream",
     "text": [
      "[ 0.00311037 -0.90120513]\n",
      "[0.00026166 0.16513736]\n"
     ]
    },
    {
     "data": {
      "image/png": "[encoded data removed]",
      "text/plain": [
       "<Figure size 252x189 with 1 Axes>"
      ]
     },
     "metadata": {
      "needs_background": "light"
     },
     "output_type": "display_data"
    }
   ],
   "source": [
    "popt, pcov =curve_fit(meros1, x, y)\n",
    "print(popt)\n",
    "print(np.sqrt(np.diag(pcov)))\n",
    "\n",
    "range=np.linspace(np.min(x), np.max(x), 100)\n",
    "\n",
    "plt.ylabel(r'Voltage U(V)')\n",
    "plt.xlabel(r'Frequency f(THz)')\n",
    "plt.grid()\n",
    "plt.xlim([450, 750])\n",
    "plt.errorbar(x, y, y_error, x_error, 'bo', markersize=4)\n",
    "plt.plot(range, meros1(range, *popt), 'r--')\n",
    "plt.legend(['Exp data', 'Fit function'], loc='upper left', prop={\"size\":10})\n",
    "plt.savefig('1meros.png', dpi=500)\n"
   ]
  },
  {
   "cell_type": "code",
   "execution_count": 21,
   "metadata": {},
   "outputs": [],
   "source": [
    "data=np.loadtxt('2_meros.txt')\n",
    "x=data[:,0]\n",
    "y=data[:,1]\n",
    "y_error=y*0+0.05\n",
    "x_error=x*0"
   ]
  },
  {
   "cell_type": "code",
   "execution_count": 22,
   "metadata": {},
   "outputs": [],
   "source": [
    "def meros2(x, a, b,):\n",
    "    return a*x+b"
   ]
  },
  {
   "cell_type": "code",
   "execution_count": 23,
   "metadata": {},
   "outputs": [
    {
     "name": "stdout",
     "output_type": "stream",
     "text": [
      "[ 0.00299307 -0.88001494]\n",
      "[0.0002465  0.15063021]\n"
     ]
    },
    {
     "data": {
      "image/png": "[encoded data removed]",
      "text/plain": [
       "<Figure size 252x189 with 1 Axes>"
      ]
     },
     "metadata": {
      "needs_background": "light"
     },
     "output_type": "display_data"
    }
   ],
   "source": [
    "popt, pcov =curve_fit(meros2, x, y)\n",
    "print(popt)\n",
    "print(np.sqrt(np.diag(pcov)))\n",
    "\n",
    "range=np.linspace(np.min(x), np.max(x), 100)\n",
    "\n",
    "plt.ylabel(r'Voltage U(V)')\n",
    "plt.xlabel(r'Frequency f(THz)')\n",
    "plt.grid()\n",
    "plt.xlim([400, 725])\n",
    "plt.errorbar(x, y, y_error, x_error, 'bo', markersize=4)\n",
    "plt.plot(range, meros2(range, *popt), 'r--')\n",
    "plt.legend(['Exp data', 'Fit function'], loc='upper left', prop={\"size\":10})\n",
    "plt.savefig('2meros.png', dpi=500)\n"
   ]
  },
  {
   "cell_type": "code",
   "execution_count": null,
   "metadata": {},
   "outputs": [],
   "source": []
  }
 ],
 "metadata": {
  "interpreter": {
   "hash": "b89b5cfaba6639976dc87ff2fec6d58faec662063367e2c229c520fe71072417"
  },
  "kernelspec": {
   "display_name": "Python 3.10.1 64-bit",
   "language": "python",
   "name": "python3"
  },
  "language_info": {
   "codemirror_mode": {
    "name": "ipython",
    "version": 3
   },
   "file_extension": ".py",
   "mimetype": "text/x-python",
   "name": "python",
   "nbconvert_exporter": "python",
   "pygments_lexer": "ipython3",
   "version": "3.10.1"
  },
  "orig_nbformat": 4
 },
 "nbformat": 4,
 "nbformat_minor": 2
}
